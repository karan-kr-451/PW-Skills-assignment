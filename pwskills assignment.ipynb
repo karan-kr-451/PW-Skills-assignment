{
 "cells": [
  {
   "cell_type": "markdown",
   "id": "24236115-171d-4771-a4c2-b3c89f2f8ba8",
   "metadata": {},
   "source": [
    "Q1. Which keyword is used to create a function? Create a function to return a list of odd numbers in the\n",
    "range of 1 to 25."
   ]
  },
  {
   "cell_type": "markdown",
   "id": "af4a9b57-f163-4f9a-99e7-fd164febedb9",
   "metadata": {},
   "source": [
    "def keyword is used to create a function"
   ]
  },
  {
   "cell_type": "code",
   "execution_count": 1,
   "id": "74026963-c40a-4c74-b957-56e5a9f34451",
   "metadata": {},
   "outputs": [],
   "source": [
    "def odd():\n",
    "    lst = []\n",
    "    for i in range (25):\n",
    "        if i%2 == 0:\n",
    "            continue\n",
    "        else:\n",
    "            lst.append(i)\n",
    "    return lst"
   ]
  },
  {
   "cell_type": "code",
   "execution_count": 2,
   "id": "0054e618-5f1f-459e-a2c7-3bdfc9806f48",
   "metadata": {},
   "outputs": [
    {
     "data": {
      "text/plain": [
       "[1, 3, 5, 7, 9, 11, 13, 15, 17, 19, 21, 23]"
      ]
     },
     "execution_count": 2,
     "metadata": {},
     "output_type": "execute_result"
    }
   ],
   "source": [
    "odd()"
   ]
  },
  {
   "cell_type": "markdown",
   "id": "c85f25c1-61a3-474f-be10-e2d63f77f269",
   "metadata": {},
   "source": [
    "Q2. Why *args and **kwargs is used in some functions? Create a function each for *args and **kwargs\n",
    "to demonstrate their use."
   ]
  },
  {
   "cell_type": "markdown",
   "id": "3d8d4336-78ad-4828-ba1e-0582c999a63a",
   "metadata": {},
   "source": [
    "Ans\n",
    "\n",
    " *args allows us to pass a variable number of non-keyword arguments to a Python function. In the function, we should use an asterisk (*) before the parameter name to pass a variable number of arguments."
   ]
  },
  {
   "cell_type": "code",
   "execution_count": 3,
   "id": "bfb98e49-63c7-4dba-b2e0-e89a5018622f",
   "metadata": {},
   "outputs": [],
   "source": [
    "def add(*numbers):\n",
    "    print(type(numbers))\n",
    "    total = 0\n",
    "    for num in numbers:\n",
    "        total += num\n",
    "    return total\n"
   ]
  },
  {
   "cell_type": "code",
   "execution_count": 4,
   "id": "b2cbd164-c0a4-4092-8b9f-7aeb26ac7b2d",
   "metadata": {},
   "outputs": [
    {
     "name": "stdout",
     "output_type": "stream",
     "text": [
      "<class 'tuple'>\n"
     ]
    },
    {
     "data": {
      "text/plain": [
       "140"
      ]
     },
     "execution_count": 4,
     "metadata": {},
     "output_type": "execute_result"
    }
   ],
   "source": [
    "add(92,48)"
   ]
  },
  {
   "cell_type": "markdown",
   "id": "9b16599f-8387-44bf-a73f-d840dc57ac94",
   "metadata": {},
   "source": [
    "**kwargs allows us to pass a variable number of keyword arguments to a Python function. In the function, we use the double-asterisk (**) before the parameter name to denote this type of argument."
   ]
  },
  {
   "cell_type": "code",
   "execution_count": 5,
   "id": "af101f42-4d64-4d29-bcda-9bb668238457",
   "metadata": {},
   "outputs": [],
   "source": [
    "def total_fruits(**fruits):\n",
    "    total = 0\n",
    "    for amount in fruits.values():\n",
    "        total += amount\n",
    "    return total"
   ]
  },
  {
   "cell_type": "code",
   "execution_count": 6,
   "id": "fa640c47-bdc0-4b23-86c3-6f8ca356c435",
   "metadata": {},
   "outputs": [
    {
     "name": "stdout",
     "output_type": "stream",
     "text": [
      "20\n"
     ]
    }
   ],
   "source": [
    "print(total_fruits(banana=5, mango=7, apple=8))"
   ]
  },
  {
   "cell_type": "markdown",
   "id": "0576c148-0b1c-4bdd-b6e2-9ac747a0804d",
   "metadata": {},
   "source": [
    "Q3. What is an iterator in python? Name the method used to initialise the iterator object and the method\n",
    "used for iteration. Use these methods to print the first five elements of the given list [2, 4, 6, 8, 10, 12, 14,\n",
    "16, 18, 20]."
   ]
  },
  {
   "cell_type": "markdown",
   "id": "377c1a1f-57f7-439c-b97a-c41383a834fb",
   "metadata": {},
   "source": [
    "Ans.\n",
    "\n",
    "Iterator in Python is an object that is used to iterate over iterable objects like lists, tuples, dicts, and sets. The iterator object is initialized using the iter() method. It uses the next() method for iteration."
   ]
  },
  {
   "cell_type": "code",
   "execution_count": 7,
   "id": "6df4e02b-9d4e-4943-904e-d0dd8df7a719",
   "metadata": {},
   "outputs": [],
   "source": [
    "lst =  [2, 4, 6, 8, 10, 12, 14, 16, 18, 20]\n",
    "lst_iter = iter(lst)"
   ]
  },
  {
   "cell_type": "code",
   "execution_count": null,
   "id": "3b5c38d8-e725-4a6d-b3ef-cd2cdd670eac",
   "metadata": {},
   "outputs": [
    {
     "name": "stdin",
     "output_type": "stream",
     "text": [
      "enter number of iteration 5\n"
     ]
    },
    {
     "name": "stdout",
     "output_type": "stream",
     "text": [
      "2\n",
      "4\n",
      "6\n",
      "8\n",
      "10\n"
     ]
    }
   ],
   "source": [
    "number = int(input('enter number of iteration'))\n",
    "for i in range (number):\n",
    "    print(next(lst_iter))"
   ]
  },
  {
   "cell_type": "markdown",
   "id": "656dfb94-7582-48d3-aa66-c1b683b5c7d0",
   "metadata": {},
   "source": [
    "Q4. What is a generator function in python? Why yield keyword is used? Give an example of a generator\n",
    "function."
   ]
  },
  {
   "cell_type": "markdown",
   "id": "c36c617a-5176-4810-81d5-bcbf1f1f8380",
   "metadata": {},
   "source": [
    "Ans.\n",
    "Generator functions behave and look just like normal functions, but with one defining characteristic. Instead of returning data, Python generator functions use the yield keyword. Generators’ main benefit is that they automatically create the functions __iter__() and next ()."
   ]
  },
  {
   "cell_type": "markdown",
   "id": "55fd0cf3-60b6-44ed-954c-0a145e44546e",
   "metadata": {},
   "source": [
    "yield keyword is used to create a generator function. A type of function that is memory efficient and can be used like an iterator object."
   ]
  },
  {
   "cell_type": "code",
   "execution_count": null,
   "id": "6c273a80-dcf4-4caf-9f98-ae7acdccb0d7",
   "metadata": {},
   "outputs": [],
   "source": [
    "def print_even(test_list):\n",
    "    for i in test_list:\n",
    "        if i % 2 == 0:\n",
    "            yield i\n",
    " \n",
    "test_list = [1, 4, 5, 6, 7]\n",
    " \n",
    "print(\"The original list is : \" + str(test_list))\n",
    " \n",
    "print(\"The even numbers in list are : \", end=\" \")\n",
    "for j in print_even(test_list):\n",
    "    print(j, end=\" \")"
   ]
  },
  {
   "cell_type": "markdown",
   "id": "62477377-61f8-4fb4-b73b-8fa74fbe9e8e",
   "metadata": {},
   "source": [
    "Q5. Create a generator function for prime numbers less than 1000. Use the next() method to print the\n",
    "first 20 prime numbers."
   ]
  },
  {
   "cell_type": "code",
   "execution_count": null,
   "id": "f37aabb6-84b9-4939-b984-1aef79d89c51",
   "metadata": {},
   "outputs": [],
   "source": [
    "from math import sqrt\n",
    "\n",
    "def is_prime(n):\n",
    "    if (n <= 1):\n",
    "        return False\n",
    "    if (n == 2):\n",
    "        return True\n",
    "    if (n % 2 == 0):\n",
    "        return False\n",
    "\n",
    "    i = 3\n",
    "    while i <= sqrt(n):\n",
    "        if n % i == 0:\n",
    "            return False\n",
    "        i = i + 2\n",
    "\n",
    "    return True"
   ]
  },
  {
   "cell_type": "code",
   "execution_count": null,
   "id": "afa39156-27fc-448a-a5e7-d2cacec65181",
   "metadata": {},
   "outputs": [],
   "source": [
    "def prime_generator():\n",
    "    n = 1\n",
    "    while True:\n",
    "        n += 1\n",
    "        if is_prime(n):\n",
    "            yield n"
   ]
  },
  {
   "cell_type": "code",
   "execution_count": null,
   "id": "dea57ec8-e57a-42f3-ad21-24bb6955d019",
   "metadata": {},
   "outputs": [],
   "source": [
    "generator = prime_generator()\n",
    "\n",
    "for i in range(20):\n",
    "    print(next(generator))"
   ]
  },
  {
   "cell_type": "markdown",
   "id": "b85fbf06-3a88-4a66-ab27-ed9617c235ac",
   "metadata": {},
   "source": [
    "Q6. Write a python program to print the first 10 Fibonacci numbers using a while loop."
   ]
  },
  {
   "cell_type": "code",
   "execution_count": null,
   "id": "4a64cdd0-ac8b-4171-9c69-99e113dcf840",
   "metadata": {},
   "outputs": [],
   "source": [
    "\n",
    "nterms = int(input(\"How many terms? \"))\n",
    "\n",
    "n1, n2 = 0, 1\n",
    "count = 0\n",
    "\n",
    "if nterms <= 0:\n",
    "   print(\"Please enter a positive integer\")\n",
    "elif nterms == 1:\n",
    "   print(\"Fibonacci sequence upto\",nterms,\":\")\n",
    "   print(n1)\n",
    "else:\n",
    "   print(\"Fibonacci sequence:\")\n",
    "   while count < nterms:\n",
    "       print(n1)\n",
    "       nth = n1 + n2\n",
    "       n1 = n2\n",
    "       n2 = nth\n",
    "       count += 1"
   ]
  },
  {
   "cell_type": "markdown",
   "id": "acf1a09c-4999-445b-a618-3a4a08cb9c9f",
   "metadata": {},
   "source": [
    "Q7. Write a List Comprehension to iterate through the given string: ‘pwskills’.\n",
    "Expected output: ['p', 'w', 's', 'k', 'i', 'l', 'l', 's']"
   ]
  },
  {
   "cell_type": "code",
   "execution_count": null,
   "id": "b5fb99ad-6719-4d57-9962-0e134408a9a5",
   "metadata": {},
   "outputs": [],
   "source": [
    "letters = [ letter for letter in 'pwskills' ]\n",
    "print(letters)"
   ]
  },
  {
   "cell_type": "markdown",
   "id": "d8104ebc-3b27-474c-bcbe-2afd722df8ac",
   "metadata": {},
   "source": [
    "Q9. Write a code to print odd numbers from 1 to 100 using list comprehension."
   ]
  },
  {
   "cell_type": "code",
   "execution_count": null,
   "id": "ba031167-6f4c-4153-827b-be834371fb80",
   "metadata": {},
   "outputs": [],
   "source": [
    "num_list = [x for x in range (1,101)]"
   ]
  },
  {
   "cell_type": "code",
   "execution_count": null,
   "id": "8442261a-e3f6-46f9-9d11-cfe8a09a9734",
   "metadata": {},
   "outputs": [],
   "source": [
    "num_list"
   ]
  },
  {
   "cell_type": "code",
   "execution_count": null,
   "id": "d396e78c-12f3-4084-b09a-6d2551f97846",
   "metadata": {},
   "outputs": [],
   "source": [
    "odd_list = [odd for odd in num_list if odd % 2!= 0]"
   ]
  },
  {
   "cell_type": "code",
   "execution_count": null,
   "id": "ee2268c8-84e3-4dc3-b098-e5370cc11a19",
   "metadata": {},
   "outputs": [],
   "source": [
    "odd_list"
   ]
  },
  {
   "cell_type": "code",
   "execution_count": null,
   "id": "722ba9fb-3f23-4ccc-b6b4-03577e45be16",
   "metadata": {},
   "outputs": [],
   "source": []
  }
 ],
 "metadata": {
  "kernelspec": {
   "display_name": "Python 3 (ipykernel)",
   "language": "python",
   "name": "python3"
  },
  "language_info": {
   "codemirror_mode": {
    "name": "ipython",
    "version": 3
   },
   "file_extension": ".py",
   "mimetype": "text/x-python",
   "name": "python",
   "nbconvert_exporter": "python",
   "pygments_lexer": "ipython3",
   "version": "3.10.8"
  }
 },
 "nbformat": 4,
 "nbformat_minor": 5
}
